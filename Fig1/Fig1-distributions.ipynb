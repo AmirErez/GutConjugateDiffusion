{
 "cells": [
  {
   "cell_type": "code",
   "execution_count": 4,
   "id": "f1b2819e",
   "metadata": {},
   "outputs": [
    {
     "data": {
      "image/png": "[encoded data removed]",
      "text/plain": [
       "<Figure size 432x288 with 1 Axes>"
      ]
     },
     "metadata": {
      "needs_background": "light"
     },
     "output_type": "display_data"
    }
   ],
   "source": [
    "import numpy as np\n",
    "import matplotlib.pyplot as plt\n",
    "\n",
    "liAMP=[(0., 1.4315),(0.025, 1.39571),(0.05, 1.35993),(0.075, 1.32414),(0.1, 1.28835),(0.125, 1.25256),(0.15, 1.21678),(0.175, 1.18099),(0.2, 1.1452),(0.225, 1.10941),(0.25, 1.07363),(0.275, 1.03784),(0.3, 1.00205),(0.325, 0.966263),(0.35, 0.930475),(0.375, 0.894688),(0.4, 0.8589),(0.425, 0.823112),(0.45, 0.787325),(0.475, 0.751537),(0.5, 0.71575),(0.525, 0.679962),(0.55, 0.644175),(0.575, 0.608387),(0.6, 0.5726),(0.625, 0.536813),(0.65, 0.501025),(0.675, 0.465237),(0.7, 0.42945),(0.725, 0.393662),(0.75, 0.357875),(0.775, 0.322088),(0.8, 0.2863),(0.825, 0.250512),(0.85, 0.214725),(0.875, 0.178938),(0.9, 0.14315),(0.925, 0.107362),(0.95, 0.071575),(0.975, 0.0357875),(1., 0.)]\n",
    "liBAC=[(0., 0.00386592),(0.025, 0.00508607),(0.05, 0.00664501),(0.075, 0.00862171),(0.1, 0.011109),(0.125, 0.0142148),(0.15, 0.018063),(0.175, 0.0227942),(0.2, 0.0285655),(0.225, 0.0355503),(0.25, 0.0439369),(0.275, 0.0539262),(0.3, 0.0657285),(0.325, 0.0795595),(0.35, 0.0956344),(0.375, 0.114162),(0.4, 0.135335),(0.425, 0.159326),(0.45, 0.18627),(0.475, 0.216265),(0.5, 0.249352),(0.525, 0.285512),(0.55, 0.324652),(0.575, 0.366604),(0.6, 0.411112),(0.625, 0.457833),(0.65, 0.506336),(0.675, 0.556101),(0.7, 0.606531),(0.725, 0.656956),(0.75, 0.706648),(0.775, 0.75484),(0.8, 0.800737),(0.825, 0.843548),(0.85, 0.882497),(0.875, 0.916855),(0.9, 0.945959),(0.925, 0.969233),(0.95, 0.986207),(0.975, 0.996534),(1., 1.)]\n",
    "xA, yA = zip(*liAMP)\n",
    "xB, yB = zip(*liBAC)\n",
    "\n",
    "\n",
    "\n",
    "fig, ax = plt.subplots()\n",
    "\n",
    "\n",
    "ax.fill_between(xB, yB, alpha=0.4,color='red')\n",
    "ax.fill_between(xA, yA, alpha=0.4)\n",
    "ax.set_xlim([0, 1])\n",
    "ax.set_ylim([0, 2])\n",
    "\n",
    "ax.yaxis.set_ticks_position('both')\n",
    "ax.xaxis.set_ticks_position('both')\n",
    "ax.set_yticklabels([])\n",
    "ax.set_xticklabels([])\n",
    "plt.locator_params(axis='y', nbins=10)\n",
    "plt.locator_params(axis='x', nbins=10)\n",
    "\n",
    "plt.show()"
   ]
  },
  {
   "cell_type": "code",
   "execution_count": 5,
   "id": "fe749851",
   "metadata": {},
   "outputs": [],
   "source": [
    "image_format = 'svg' # e.g .png, .svg, etc.\n",
    "image_name = 'myimage.svg'\n",
    "\n",
    "fig.savefig(image_name, format=image_format, dpi=1200)"
   ]
  },
  {
   "cell_type": "code",
   "execution_count": null,
   "id": "b1a6a70e",
   "metadata": {},
   "outputs": [],
   "source": []
  }
 ],
 "metadata": {
  "kernelspec": {
   "display_name": "Python 3 (ipykernel)",
   "language": "python",
   "name": "python3"
  },
  "language_info": {
   "codemirror_mode": {
    "name": "ipython",
    "version": 3
   },
   "file_extension": ".py",
   "mimetype": "text/x-python",
   "name": "python",
   "nbconvert_exporter": "python",
   "pygments_lexer": "ipython3",
   "version": "3.8.12"
  },
  "vp": {
   "vp_config_version": "1.0.0",
   "vp_menu_width": 273,
   "vp_note_display": false,
   "vp_note_width": 0,
   "vp_position": {
    "width": 278
   },
   "vp_section_display": false,
   "vp_signature": "VisualPython"
  }
 },
 "nbformat": 4,
 "nbformat_minor": 5
}
